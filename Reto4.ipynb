{
  "nbformat": 4,
  "nbformat_minor": 0,
  "metadata": {
    "colab": {
      "provenance": [],
      "authorship_tag": "ABX9TyP7AHZrUyih+xP0j7jOwTGR",
      "include_colab_link": true
    },
    "kernelspec": {
      "name": "python3",
      "display_name": "Python 3"
    },
    "language_info": {
      "name": "python"
    }
  },
  "cells": [
    {
      "cell_type": "markdown",
      "metadata": {
        "id": "view-in-github",
        "colab_type": "text"
      },
      "source": [
        "<a href=\"https://colab.research.google.com/github/JuanCordobach/Reto/blob/main/Reto4.ipynb\" target=\"_parent\"><img src=\"https://colab.research.google.com/assets/colab-badge.svg\" alt=\"Open In Colab\"/></a>"
      ]
    },
    {
      "cell_type": "code",
      "execution_count": null,
      "metadata": {
        "colab": {
          "base_uri": "https://localhost:8080/"
        },
        "id": "MctspboblPR-",
        "outputId": "a5aa9fa5-1c0c-4f53-8195-68938825a4b8"
      },
      "outputs": [
        {
          "output_type": "stream",
          "name": "stdout",
          "text": [
            "Ingresa un número entero: 102\n",
            "El número 102 no corresponde a una vocal minúscula en el ASCII.\n"
          ]
        }
      ],
      "source": [
        "def vocalm(n):  # Para saber si un número corresponde a una vocal minúscula en el código ASCII\n",
        "    return n in [97, 101, 105, 111, 117]\n",
        "\n",
        "def main():\n",
        "    n = int(input(\"Ingresa un número entero: \"))\n",
        "    if vocalm(n):\n",
        "        print(f\"El número {n} sí corresponde a una vocal minúscula en el ASCII.\")\n",
        "    else:\n",
        "        print(f\"El número {n} no corresponde a una vocal minúscula en el ASCII.\")\n",
        "\n",
        "# Ejecutar la función principal\n",
        "if __name__ == \"__main__\":\n",
        "    main()"
      ]
    },
    {
      "cell_type": "markdown",
      "source": [
        "Primer reto"
      ],
      "metadata": {
        "id": "VrtZ0XJnq81M"
      }
    },
    {
      "cell_type": "code",
      "source": [
        "def ascii_par(char):\n",
        "    n_codigo = ord(char)\n",
        "    return n_codigo % 2 == 0\n",
        "\n",
        "palabra = input(\"Ingrese una palabra: \")\n",
        "if len(palabra) > 0:\n",
        "    primera_letra = palabra[0]\n",
        "    if ascii_par(primera_letra):\n",
        "        print(f\"El código ASCII de la primera letra '{primera_letra}' es par.\")\n",
        "    else:\n",
        "        print(f\"El código ASCII de la primera letra '{primera_letra}' es impar.\")\n",
        "else:\n",
        "    print(\"Por favor, ingrese al menos un carácter.\")"
      ],
      "metadata": {
        "colab": {
          "base_uri": "https://localhost:8080/"
        },
        "id": "i3bIIITZDzo8",
        "outputId": "ae56832b-b0d0-4e8f-dc0b-dbff2279864b"
      },
      "execution_count": null,
      "outputs": [
        {
          "output_type": "stream",
          "name": "stdout",
          "text": [
            "Ingrese una palabra: r\n",
            "El código ASCII de la primera letra 'r' es par.\n"
          ]
        }
      ]
    },
    {
      "cell_type": "markdown",
      "source": [
        "Segundo reto\n"
      ],
      "metadata": {
        "id": "J5L293maLIa1"
      }
    },
    {
      "cell_type": "code",
      "source": [
        "def es_digito(caracter):  # Verifica si un carácter es un dígito\n",
        "    return \"0\" <= caracter <= \"9\"  # Comprueba si el carácter está entre '0' y '9'\n",
        "\n",
        "def main():\n",
        "    caracter = input(\"Ingrese un solo carácter: \")\n",
        "    if len(caracter) == 1:\n",
        "        if es_digito(caracter):  # Verifica si el carácter es un dígito\n",
        "            print(f\"El carácter '{caracter}' es un dígito.\")\n",
        "        else:\n",
        "            print(f\"El carácter '{caracter}' no es un dígito.\")\n",
        "    else:\n",
        "        print(\"Por favor, ingrese solo un carácter.\")\n",
        "\n",
        "main()"
      ],
      "metadata": {
        "colab": {
          "base_uri": "https://localhost:8080/"
        },
        "id": "SBHp-zzdLL8l",
        "outputId": "7f53620b-c935-4022-e5c4-0742110e6aaa"
      },
      "execution_count": null,
      "outputs": [
        {
          "output_type": "stream",
          "name": "stdout",
          "text": [
            "Ingrese un solo carácter: y\n",
            "El carácter 'y' no es un dígito.\n"
          ]
        }
      ]
    },
    {
      "cell_type": "markdown",
      "source": [
        "Tercer reto"
      ],
      "metadata": {
        "id": "nnDjYgsAOJDi"
      }
    },
    {
      "cell_type": "code",
      "source": [
        "def es_multiplo(a, b):\n",
        "    if b == 0:\n",
        "        return False\n",
        "    return a % b == 0\n",
        "\n",
        "def main():\n",
        "    try:\n",
        "        # Leer dos números reales\n",
        "        a = float(input(\"Ingrese el primer número real: \"))\n",
        "        b = float(input(\"Ingrese el segundo número real: \"))\n",
        "\n",
        "        # Verificar si a es múltiplo de b\n",
        "        if es_multiplo(a, b):\n",
        "            print(f\"El número {a} es múltiplo de {b}.\")\n",
        "        else:\n",
        "            print(f\"El número {a} no es múltiplo de {b}.\")\n",
        "\n",
        "    except ValueError:\n",
        "        print(\"Por favor, ingrese números válidos.\")\n",
        "\n",
        "main()\n"
      ],
      "metadata": {
        "colab": {
          "base_uri": "https://localhost:8080/"
        },
        "id": "1s0bPfinOLTu",
        "outputId": "4d7fcfec-b327-4e8d-8eae-ac8d322aee7e"
      },
      "execution_count": null,
      "outputs": [
        {
          "output_type": "stream",
          "name": "stdout",
          "text": [
            "Ingrese el primer número real: 3\n",
            "Ingrese el segundo número real: 4\n",
            "El número 3.0 no es múltiplo de 4.0.\n"
          ]
        }
      ]
    },
    {
      "cell_type": "markdown",
      "source": [
        "Cuarto reto"
      ],
      "metadata": {
        "id": "zpfMzP1GRXHV"
      }
    },
    {
      "cell_type": "code",
      "source": [
        "def clasificar_numero(x):\n",
        "    if x > 0:\n",
        "        print(f\"El número {x} es positivo\")\n",
        "    elif x < 0:\n",
        "        print(f\"El número {x} es negativo\")\n",
        "    else:\n",
        "        print(f\"El número {x} es el neutro para la suma\")\n",
        "\n",
        "def main():\n",
        "    try:\n",
        "        x = float(input(\"Ingrese un número real: \"))\n",
        "        clasificar_numero(x)\n",
        "\n",
        "    except ValueError:\n",
        "        print(\"Por favor, ingrese un número válido.\")\n",
        "\n",
        "main()"
      ],
      "metadata": {
        "colab": {
          "base_uri": "https://localhost:8080/"
        },
        "id": "ET2YuttuRWzm",
        "outputId": "5d360db1-70b4-4285-e73f-fc0abac344b3"
      },
      "execution_count": null,
      "outputs": [
        {
          "output_type": "stream",
          "name": "stdout",
          "text": [
            "Ingrese un número real: 0\n",
            "El número 0.0 es el neutro para la suma\n"
          ]
        }
      ]
    },
    {
      "cell_type": "markdown",
      "source": [
        "Quinto reto"
      ],
      "metadata": {
        "id": "TcGIphfXUEKM"
      }
    },
    {
      "cell_type": "code",
      "source": [
        "import math\n",
        "\n",
        "def pertenece_al_circulo(x1, y1, r, x2, y2):\n",
        "    distancia = math.sqrt((x2 - x1)**2 + (y2 - y1)**2)\n",
        "\n",
        "    return distancia <= r\n",
        "\n",
        "def main():\n",
        "    x1 = float(input(\"Ingrese la coordenada x del centro del círculo: \"))\n",
        "    y1 = float(input(\"Ingrese la coordenada y del centro del círculo: \"))\n",
        "    r = float(input(\"Ingrese el radio del círculo: \"))\n",
        "\n",
        "    x2 = float(input(\"Ingrese la coordenada x del punto: \"))\n",
        "    y2 = float(input(\"Ingrese la coordenada y del punto: \"))\n",
        "\n",
        "    if pertenece_al_circulo(x1, y1, r, x2, y2):\n",
        "        print(f\"El punto ({x2}, {y2}) pertenece al interior del círculo.\")\n",
        "    else:\n",
        "        print(f\"El punto ({x2}, {y2}) NO pertenece al interior del círculo.\")\n",
        "\n",
        "main()"
      ],
      "metadata": {
        "colab": {
          "base_uri": "https://localhost:8080/"
        },
        "id": "VS1aEQ-9UGrb",
        "outputId": "7743f5a6-3ff6-430f-bca2-ab1eb31d3f91"
      },
      "execution_count": null,
      "outputs": [
        {
          "output_type": "stream",
          "name": "stdout",
          "text": [
            "Ingrese la coordenada x del centro del círculo: 2\n",
            "Ingrese la coordenada y del centro del círculo: 3\n",
            "Ingrese el radio del círculo: 4\n",
            "Ingrese la coordenada x del punto: 5\n",
            "Ingrese la coordenada y del punto: 6\n",
            "El punto (5.0, 6.0) NO pertenece al interior del círculo.\n"
          ]
        }
      ]
    },
    {
      "cell_type": "markdown",
      "source": [
        "Sexto reto"
      ],
      "metadata": {
        "id": "Nznizm5AWE_x"
      }
    },
    {
      "cell_type": "code",
      "source": [
        "def formar_triangulo(a, b, c):\n",
        "\n",
        "    return a + b > c and a + c > b and b + c > a\n",
        "\n",
        "def main():\n",
        "\n",
        "    a = float(input(\"Ingrese la longitud del primer lado: \"))\n",
        "    b = float(input(\"Ingrese la longitud del segundo lado: \"))\n",
        "    c = float(input(\"Ingrese la longitud del tercer lado: \"))\n",
        "\n",
        "    if formar_triangulo(a, b, c):\n",
        "        print(f\"Con las longitudes {a}, {b}, y {c} sí se puede formar un triángulo.\")\n",
        "    else:\n",
        "        print(f\"Con las longitudes {a}, {b}, y {c} NO se puede formar un triángulo.\")\n",
        "\n",
        "main()"
      ],
      "metadata": {
        "colab": {
          "base_uri": "https://localhost:8080/"
        },
        "id": "FcspBzTDWGiV",
        "outputId": "151b93db-4ac6-4137-e5f8-0133722dc2a4"
      },
      "execution_count": null,
      "outputs": [
        {
          "output_type": "stream",
          "name": "stdout",
          "text": [
            "Ingrese la longitud del primer lado: 2\n",
            "Ingrese la longitud del segundo lado: 4\n",
            "Ingrese la longitud del tercer lado: 5\n",
            "Con las longitudes 2.0, 4.0, y 5.0 sí se puede formar un triángulo.\n"
          ]
        }
      ]
    },
    {
      "cell_type": "markdown",
      "source": [
        "Septimo reto"
      ],
      "metadata": {
        "id": "1KQ58RtVWyva"
      }
    },
    {
      "cell_type": "code",
      "source": [
        "def obtener_capital(pais):\n",
        "    match pais:\n",
        "        case \"argentina\":\n",
        "            return \"Buenos Aires\"\n",
        "        case \"brasil\":\n",
        "            return \"Brasilia\"\n",
        "        case \"canada\":\n",
        "            return \"Ottawa\"\n",
        "        case \"chile\":\n",
        "            return \"Santiago\"\n",
        "        case \"colombia\":\n",
        "            return \"Bogotá\"\n",
        "        case \"ecuador\":\n",
        "            return \"Quito\"\n",
        "        case \"peru\":\n",
        "            return \"Lima\"\n",
        "        case \"mexico\":\n",
        "            return \"Ciudad de México\"\n",
        "        case \"venezuela\":\n",
        "            return \"Caracas\"\n",
        "        case \"paraguay\":\n",
        "            return \"Asunción\"\n",
        "        case \"uruguay\":\n",
        "            return \"Montevideo\"\n",
        "        case \"bolivia\":\n",
        "            return \"Sucre\"\n",
        "        case \"panama\":\n",
        "            return \"Ciudad de Panamá\"\n",
        "        case \"salvador\":\n",
        "            return \"San Salvador\"\n",
        "        case \"costa rica\":\n",
        "            return \"San José\"\n",
        "        case \"guatemala\":\n",
        "            return \"Ciudad de Guatemala\"\n",
        "        case \"honduras\":\n",
        "            return \"Tegucigalpa\"\n",
        "        case \"nicaragua\":\n",
        "            return \"Managua\"\n",
        "        case \"cuba\":\n",
        "            return \"La Habana\"\n",
        "        case \"república dominicana\":\n",
        "            return \"Santo Domingo\"\n",
        "        case _:\n",
        "            return \"País no identificado\"\n",
        "\n",
        "def main():\n",
        "    pais = input(\"Ingrese el nombre de un país de América en minúsculas: \")\n",
        "    capital = obtener_capital(pais)\n",
        "    print(capital)\n",
        "\n",
        "main()\n"
      ],
      "metadata": {
        "id": "wBOCw_88W1Xx"
      },
      "execution_count": null,
      "outputs": []
    },
    {
      "cell_type": "markdown",
      "source": [
        "Octavo reto"
      ],
      "metadata": {
        "id": "9295aO08Xdft"
      }
    }
  ]
}